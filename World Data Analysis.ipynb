{
 "cells": [
  {
   "cell_type": "code",
   "execution_count": 4,
   "id": "12a68261",
   "metadata": {},
   "outputs": [
    {
     "data": {
      "text/html": [
       "<div>\n",
       "<style scoped>\n",
       "    .dataframe tbody tr th:only-of-type {\n",
       "        vertical-align: middle;\n",
       "    }\n",
       "\n",
       "    .dataframe tbody tr th {\n",
       "        vertical-align: top;\n",
       "    }\n",
       "\n",
       "    .dataframe thead th {\n",
       "        text-align: right;\n",
       "    }\n",
       "</style>\n",
       "<table border=\"1\" class=\"dataframe\">\n",
       "  <thead>\n",
       "    <tr style=\"text-align: right;\">\n",
       "      <th></th>\n",
       "      <th>country</th>\n",
       "      <th>happiness</th>\n",
       "      <th>income</th>\n",
       "      <th>lifeexp</th>\n",
       "      <th>sanitation</th>\n",
       "      <th>water</th>\n",
       "      <th>urbanpopulation</th>\n",
       "      <th>unemployment</th>\n",
       "      <th>literacy</th>\n",
       "      <th>inequality</th>\n",
       "      <th>murder</th>\n",
       "      <th>energy</th>\n",
       "      <th>childmortality</th>\n",
       "      <th>fertility</th>\n",
       "      <th>hiv</th>\n",
       "      <th>foodsupply</th>\n",
       "      <th>population</th>\n",
       "    </tr>\n",
       "  </thead>\n",
       "  <tbody>\n",
       "    <tr>\n",
       "      <th>0</th>\n",
       "      <td>Afghanistan</td>\n",
       "      <td>3.982855</td>\n",
       "      <td>1750.0</td>\n",
       "      <td>57.9</td>\n",
       "      <td>39.2</td>\n",
       "      <td>63.0</td>\n",
       "      <td>11.0</td>\n",
       "      <td>NaN</td>\n",
       "      <td>39.0</td>\n",
       "      <td>NaN</td>\n",
       "      <td>NaN</td>\n",
       "      <td>NaN</td>\n",
       "      <td>73.2</td>\n",
       "      <td>4.80</td>\n",
       "      <td>5800.0</td>\n",
       "      <td>2090.0</td>\n",
       "      <td>33700000</td>\n",
       "    </tr>\n",
       "    <tr>\n",
       "      <th>1</th>\n",
       "      <td>Albania</td>\n",
       "      <td>4.606651</td>\n",
       "      <td>11000.0</td>\n",
       "      <td>77.6</td>\n",
       "      <td>97.7</td>\n",
       "      <td>91.4</td>\n",
       "      <td>NaN</td>\n",
       "      <td>6.090</td>\n",
       "      <td>96.8</td>\n",
       "      <td>29.0</td>\n",
       "      <td>2.30</td>\n",
       "      <td>808.0</td>\n",
       "      <td>14.0</td>\n",
       "      <td>1.71</td>\n",
       "      <td>NaN</td>\n",
       "      <td>3190.0</td>\n",
       "      <td>2920000</td>\n",
       "    </tr>\n",
       "    <tr>\n",
       "      <th>2</th>\n",
       "      <td>Argentina</td>\n",
       "      <td>6.697131</td>\n",
       "      <td>19100.0</td>\n",
       "      <td>76.5</td>\n",
       "      <td>94.8</td>\n",
       "      <td>99.6</td>\n",
       "      <td>43.1</td>\n",
       "      <td>0.856</td>\n",
       "      <td>97.9</td>\n",
       "      <td>41.4</td>\n",
       "      <td>4.65</td>\n",
       "      <td>2020.0</td>\n",
       "      <td>11.6</td>\n",
       "      <td>2.31</td>\n",
       "      <td>95000.0</td>\n",
       "      <td>3230.0</td>\n",
       "      <td>43400000</td>\n",
       "    </tr>\n",
       "    <tr>\n",
       "      <th>3</th>\n",
       "      <td>Armenia</td>\n",
       "      <td>4.348320</td>\n",
       "      <td>8180.0</td>\n",
       "      <td>75.4</td>\n",
       "      <td>91.6</td>\n",
       "      <td>98.9</td>\n",
       "      <td>36.7</td>\n",
       "      <td>7.110</td>\n",
       "      <td>99.6</td>\n",
       "      <td>32.4</td>\n",
       "      <td>1.12</td>\n",
       "      <td>1020.0</td>\n",
       "      <td>14.0</td>\n",
       "      <td>1.66</td>\n",
       "      <td>3600.0</td>\n",
       "      <td>2930.0</td>\n",
       "      <td>2920000</td>\n",
       "    </tr>\n",
       "    <tr>\n",
       "      <th>4</th>\n",
       "      <td>Australia</td>\n",
       "      <td>7.309061</td>\n",
       "      <td>43800.0</td>\n",
       "      <td>82.6</td>\n",
       "      <td>100.0</td>\n",
       "      <td>100.0</td>\n",
       "      <td>60.2</td>\n",
       "      <td>1.240</td>\n",
       "      <td>NaN</td>\n",
       "      <td>34.7</td>\n",
       "      <td>1.11</td>\n",
       "      <td>5480.0</td>\n",
       "      <td>3.8</td>\n",
       "      <td>1.86</td>\n",
       "      <td>22000.0</td>\n",
       "      <td>3280.0</td>\n",
       "      <td>23800000</td>\n",
       "    </tr>\n",
       "    <tr>\n",
       "      <th>...</th>\n",
       "      <td>...</td>\n",
       "      <td>...</td>\n",
       "      <td>...</td>\n",
       "      <td>...</td>\n",
       "      <td>...</td>\n",
       "      <td>...</td>\n",
       "      <td>...</td>\n",
       "      <td>...</td>\n",
       "      <td>...</td>\n",
       "      <td>...</td>\n",
       "      <td>...</td>\n",
       "      <td>...</td>\n",
       "      <td>...</td>\n",
       "      <td>...</td>\n",
       "      <td>...</td>\n",
       "      <td>...</td>\n",
       "      <td>...</td>\n",
       "    </tr>\n",
       "    <tr>\n",
       "      <th>189</th>\n",
       "      <td>Tonga</td>\n",
       "      <td>NaN</td>\n",
       "      <td>5190.0</td>\n",
       "      <td>70.3</td>\n",
       "      <td>93.5</td>\n",
       "      <td>99.9</td>\n",
       "      <td>NaN</td>\n",
       "      <td>NaN</td>\n",
       "      <td>99.0</td>\n",
       "      <td>37.5</td>\n",
       "      <td>NaN</td>\n",
       "      <td>567.0</td>\n",
       "      <td>16.8</td>\n",
       "      <td>3.68</td>\n",
       "      <td>NaN</td>\n",
       "      <td>NaN</td>\n",
       "      <td>106000</td>\n",
       "    </tr>\n",
       "    <tr>\n",
       "      <th>190</th>\n",
       "      <td>Trinidad and Tobago</td>\n",
       "      <td>NaN</td>\n",
       "      <td>31300.0</td>\n",
       "      <td>73.1</td>\n",
       "      <td>92.1</td>\n",
       "      <td>96.9</td>\n",
       "      <td>NaN</td>\n",
       "      <td>NaN</td>\n",
       "      <td>98.8</td>\n",
       "      <td>40.3</td>\n",
       "      <td>12.10</td>\n",
       "      <td>14400.0</td>\n",
       "      <td>19.1</td>\n",
       "      <td>1.77</td>\n",
       "      <td>13000.0</td>\n",
       "      <td>3050.0</td>\n",
       "      <td>1360000</td>\n",
       "    </tr>\n",
       "    <tr>\n",
       "      <th>191</th>\n",
       "      <td>Tuvalu</td>\n",
       "      <td>NaN</td>\n",
       "      <td>3320.0</td>\n",
       "      <td>NaN</td>\n",
       "      <td>91.4</td>\n",
       "      <td>99.3</td>\n",
       "      <td>NaN</td>\n",
       "      <td>NaN</td>\n",
       "      <td>NaN</td>\n",
       "      <td>39.1</td>\n",
       "      <td>NaN</td>\n",
       "      <td>NaN</td>\n",
       "      <td>26.2</td>\n",
       "      <td>NaN</td>\n",
       "      <td>NaN</td>\n",
       "      <td>NaN</td>\n",
       "      <td>11000</td>\n",
       "    </tr>\n",
       "    <tr>\n",
       "      <th>192</th>\n",
       "      <td>Vanuatu</td>\n",
       "      <td>NaN</td>\n",
       "      <td>2810.0</td>\n",
       "      <td>63.6</td>\n",
       "      <td>53.5</td>\n",
       "      <td>90.5</td>\n",
       "      <td>NaN</td>\n",
       "      <td>0.978</td>\n",
       "      <td>83.2</td>\n",
       "      <td>37.6</td>\n",
       "      <td>NaN</td>\n",
       "      <td>159.0</td>\n",
       "      <td>28.2</td>\n",
       "      <td>3.31</td>\n",
       "      <td>NaN</td>\n",
       "      <td>2840.0</td>\n",
       "      <td>265000</td>\n",
       "    </tr>\n",
       "    <tr>\n",
       "      <th>193</th>\n",
       "      <td>Liechtenstein</td>\n",
       "      <td>NaN</td>\n",
       "      <td>NaN</td>\n",
       "      <td>NaN</td>\n",
       "      <td>100.0</td>\n",
       "      <td>100.0</td>\n",
       "      <td>NaN</td>\n",
       "      <td>NaN</td>\n",
       "      <td>NaN</td>\n",
       "      <td>NaN</td>\n",
       "      <td>NaN</td>\n",
       "      <td>NaN</td>\n",
       "      <td>NaN</td>\n",
       "      <td>NaN</td>\n",
       "      <td>NaN</td>\n",
       "      <td>NaN</td>\n",
       "      <td>37400</td>\n",
       "    </tr>\n",
       "  </tbody>\n",
       "</table>\n",
       "<p>194 rows × 17 columns</p>\n",
       "</div>"
      ],
      "text/plain": [
       "                 country  happiness   income  lifeexp  sanitation  water  \\\n",
       "0            Afghanistan   3.982855   1750.0     57.9        39.2   63.0   \n",
       "1                Albania   4.606651  11000.0     77.6        97.7   91.4   \n",
       "2              Argentina   6.697131  19100.0     76.5        94.8   99.6   \n",
       "3                Armenia   4.348320   8180.0     75.4        91.6   98.9   \n",
       "4              Australia   7.309061  43800.0     82.6       100.0  100.0   \n",
       "..                   ...        ...      ...      ...         ...    ...   \n",
       "189                Tonga        NaN   5190.0     70.3        93.5   99.9   \n",
       "190  Trinidad and Tobago        NaN  31300.0     73.1        92.1   96.9   \n",
       "191               Tuvalu        NaN   3320.0      NaN        91.4   99.3   \n",
       "192              Vanuatu        NaN   2810.0     63.6        53.5   90.5   \n",
       "193        Liechtenstein        NaN      NaN      NaN       100.0  100.0   \n",
       "\n",
       "     urbanpopulation  unemployment  literacy  inequality  murder   energy  \\\n",
       "0               11.0           NaN      39.0         NaN     NaN      NaN   \n",
       "1                NaN         6.090      96.8        29.0    2.30    808.0   \n",
       "2               43.1         0.856      97.9        41.4    4.65   2020.0   \n",
       "3               36.7         7.110      99.6        32.4    1.12   1020.0   \n",
       "4               60.2         1.240       NaN        34.7    1.11   5480.0   \n",
       "..               ...           ...       ...         ...     ...      ...   \n",
       "189              NaN           NaN      99.0        37.5     NaN    567.0   \n",
       "190              NaN           NaN      98.8        40.3   12.10  14400.0   \n",
       "191              NaN           NaN       NaN        39.1     NaN      NaN   \n",
       "192              NaN         0.978      83.2        37.6     NaN    159.0   \n",
       "193              NaN           NaN       NaN         NaN     NaN      NaN   \n",
       "\n",
       "     childmortality  fertility      hiv  foodsupply  population  \n",
       "0              73.2       4.80   5800.0      2090.0    33700000  \n",
       "1              14.0       1.71      NaN      3190.0     2920000  \n",
       "2              11.6       2.31  95000.0      3230.0    43400000  \n",
       "3              14.0       1.66   3600.0      2930.0     2920000  \n",
       "4               3.8       1.86  22000.0      3280.0    23800000  \n",
       "..              ...        ...      ...         ...         ...  \n",
       "189            16.8       3.68      NaN         NaN      106000  \n",
       "190            19.1       1.77  13000.0      3050.0     1360000  \n",
       "191            26.2        NaN      NaN         NaN       11000  \n",
       "192            28.2       3.31      NaN      2840.0      265000  \n",
       "193             NaN        NaN      NaN         NaN       37400  \n",
       "\n",
       "[194 rows x 17 columns]"
      ]
     },
     "execution_count": 4,
     "metadata": {},
     "output_type": "execute_result"
    }
   ],
   "source": [
    "import pandas as pd\n",
    "df = pd.read_csv('world_data.csv')\n",
    "df"
   ]
  },
  {
   "cell_type": "code",
   "execution_count": 5,
   "id": "7211fc09",
   "metadata": {},
   "outputs": [
    {
     "data": {
      "text/plain": [
       "Index(['country', 'happiness', 'income', 'lifeexp', 'sanitation', 'water',\n",
       "       'urbanpopulation', 'unemployment', 'literacy', 'inequality', 'murder',\n",
       "       'energy', 'childmortality', 'fertility', 'hiv', 'foodsupply',\n",
       "       'population'],\n",
       "      dtype='object')"
      ]
     },
     "execution_count": 5,
     "metadata": {},
     "output_type": "execute_result"
    }
   ],
   "source": [
    "df.columns"
   ]
  },
  {
   "cell_type": "code",
   "execution_count": 8,
   "id": "75bf09d6",
   "metadata": {},
   "outputs": [],
   "source": [
    "#columns --> Pandas series\n",
    "country_name = pd.Series(df['country'])\n",
    "total_population = pd.Series(df['population'])\n",
    "average_annual_income = pd.Series(df['income'])\n",
    "life_expectancy_in_years = pd.Series(df['lifeexp'])\n",
    "literacy_rate = pd.Series(df['literacy'])"
   ]
  },
  {
   "cell_type": "code",
   "execution_count": 9,
   "id": "1017663c",
   "metadata": {},
   "outputs": [
    {
     "data": {
      "text/plain": [
       "0    Afghanistan\n",
       "1        Albania\n",
       "2      Argentina\n",
       "3        Armenia\n",
       "4      Australia\n",
       "Name: country, dtype: object"
      ]
     },
     "execution_count": 9,
     "metadata": {},
     "output_type": "execute_result"
    }
   ],
   "source": [
    "country_name.head()"
   ]
  },
  {
   "cell_type": "code",
   "execution_count": 11,
   "id": "f6f37cdb",
   "metadata": {},
   "outputs": [
    {
     "data": {
      "text/plain": [
       "dtype('O')"
      ]
     },
     "execution_count": 11,
     "metadata": {},
     "output_type": "execute_result"
    }
   ],
   "source": [
    "country_name.dtypes"
   ]
  },
  {
   "cell_type": "code",
   "execution_count": 12,
   "id": "72578bed",
   "metadata": {},
   "outputs": [
    {
     "data": {
      "text/plain": [
       "194"
      ]
     },
     "execution_count": 12,
     "metadata": {},
     "output_type": "execute_result"
    }
   ],
   "source": [
    "country_name.size"
   ]
  },
  {
   "cell_type": "code",
   "execution_count": 13,
   "id": "d7115fa1",
   "metadata": {},
   "outputs": [
    {
     "data": {
      "text/plain": [
       "dtype('int64')"
      ]
     },
     "execution_count": 13,
     "metadata": {},
     "output_type": "execute_result"
    }
   ],
   "source": [
    "total_population.dtypes"
   ]
  },
  {
   "cell_type": "code",
   "execution_count": 17,
   "id": "0cb33097",
   "metadata": {},
   "outputs": [
    {
     "data": {
      "text/plain": [
       "0    33700000\n",
       "Name: population, dtype: int64"
      ]
     },
     "execution_count": 17,
     "metadata": {},
     "output_type": "execute_result"
    }
   ],
   "source": [
    "total_population.head(1)"
   ]
  },
  {
   "cell_type": "code",
   "execution_count": 18,
   "id": "3c29beec",
   "metadata": {},
   "outputs": [
    {
     "data": {
      "text/plain": [
       "193    37400\n",
       "Name: population, dtype: int64"
      ]
     },
     "execution_count": 18,
     "metadata": {},
     "output_type": "execute_result"
    }
   ],
   "source": [
    "total_population.tail(1)"
   ]
  },
  {
   "cell_type": "code",
   "execution_count": 23,
   "id": "a50cb971",
   "metadata": {},
   "outputs": [
    {
     "data": {
      "text/plain": [
       "2920000"
      ]
     },
     "execution_count": 23,
     "metadata": {},
     "output_type": "execute_result"
    }
   ],
   "source": [
    "df.loc[3].at[\"population\"]"
   ]
  },
  {
   "cell_type": "code",
   "execution_count": 27,
   "id": "48d0a746",
   "metadata": {},
   "outputs": [
    {
     "data": {
      "text/plain": [
       "37871950.51546392"
      ]
     },
     "execution_count": 27,
     "metadata": {},
     "output_type": "execute_result"
    }
   ],
   "source": [
    "df[\"population\"].mean()"
   ]
  },
  {
   "cell_type": "code",
   "execution_count": null,
   "id": "896f451c",
   "metadata": {},
   "outputs": [],
   "source": []
  }
 ],
 "metadata": {
  "kernelspec": {
   "display_name": "Python 3 (ipykernel)",
   "language": "python",
   "name": "python3"
  },
  "language_info": {
   "codemirror_mode": {
    "name": "ipython",
    "version": 3
   },
   "file_extension": ".py",
   "mimetype": "text/x-python",
   "name": "python",
   "nbconvert_exporter": "python",
   "pygments_lexer": "ipython3",
   "version": "3.10.6"
  }
 },
 "nbformat": 4,
 "nbformat_minor": 5
}
